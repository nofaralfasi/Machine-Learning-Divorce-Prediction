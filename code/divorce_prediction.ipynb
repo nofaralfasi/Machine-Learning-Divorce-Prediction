{
 "cells": [
  {
   "cell_type": "code",
   "execution_count": 1,
   "metadata": {},
   "outputs": [],
   "source": [
    "import numpy as np\n",
    "import pandas as pd\n",
    "import seaborn as sns\n",
    "import matplotlib.pyplot as plt\n",
    "import time\n",
    "from sklearn import preprocessing\n",
    "from sklearn.ensemble import RandomForestClassifier\n",
    "from sklearn.svm import SVC\n",
    "from sklearn import svm\n",
    "from sklearn.neural_network import MLPClassifier\n",
    "from sklearn.metrics import confusion_matrix, classification_report\n",
    "from sklearn.preprocessing import StandardScaler, LabelEncoder\n",
    "from sklearn.model_selection import train_test_split\n",
    "from sklearn.metrics import plot_confusion_matrix\n",
    "from sklearn.metrics import accuracy_score\n",
    "from cf_matrix import make_confusion_matrix\n",
    "%matplotlib inline"
   ]
  },
  {
   "cell_type": "code",
   "execution_count": 2,
   "metadata": {},
   "outputs": [],
   "source": [
    "# HIDDEN_LAYER_SIZES = (12, 4)\n",
    "HIDDEN_LAYER_SIZES = 12\n",
    "MAX_ITER = 500\n",
    "LABELS = ['True Neg','False Pos','False Neg','True Pos']\n",
    "CATEGORIES = ['Married', 'Divorced']\n",
    "TEST_SIZE = 0.8\n",
    "SVM_TITLE = 'SVM 20-80 Confusion Matrix'\n",
    "RF_TITLE = 'Random Forest 20-80 Confusion Matrix'\n",
    "NN_TITLE = 'Neural Network 20-80 Confusion Matrix'\n",
    "# TEST_SIZE = 0.6\n",
    "# SVM_TITLE = 'SVM 40-60 Confusion Matrix'\n",
    "# RF_TITLE = 'RF 40-60 Confusion Matrix'\n",
    "# NN_TITLE = 'NN 40-60 Confusion Matrix'"
   ]
  },
  {
   "cell_type": "code",
   "execution_count": 3,
   "metadata": {},
   "outputs": [
    {
     "data": {
      "text/html": [
       "<div>\n",
       "<style scoped>\n",
       "    .dataframe tbody tr th:only-of-type {\n",
       "        vertical-align: middle;\n",
       "    }\n",
       "\n",
       "    .dataframe tbody tr th {\n",
       "        vertical-align: top;\n",
       "    }\n",
       "\n",
       "    .dataframe thead th {\n",
       "        text-align: right;\n",
       "    }\n",
       "</style>\n",
       "<table border=\"1\" class=\"dataframe\">\n",
       "  <thead>\n",
       "    <tr style=\"text-align: right;\">\n",
       "      <th></th>\n",
       "      <th>Atr12</th>\n",
       "      <th>Atr15</th>\n",
       "      <th>Atr16</th>\n",
       "      <th>Atr17</th>\n",
       "      <th>Atr18</th>\n",
       "      <th>Atr19</th>\n",
       "      <th>Atr20</th>\n",
       "      <th>Atr36</th>\n",
       "      <th>Atr38</th>\n",
       "      <th>Atr40</th>\n",
       "      <th>Class</th>\n",
       "    </tr>\n",
       "  </thead>\n",
       "  <tbody>\n",
       "    <tr>\n",
       "      <th>51</th>\n",
       "      <td>3</td>\n",
       "      <td>3</td>\n",
       "      <td>2</td>\n",
       "      <td>3</td>\n",
       "      <td>3</td>\n",
       "      <td>3</td>\n",
       "      <td>3</td>\n",
       "      <td>4</td>\n",
       "      <td>4</td>\n",
       "      <td>4</td>\n",
       "      <td>1</td>\n",
       "    </tr>\n",
       "    <tr>\n",
       "      <th>4</th>\n",
       "      <td>1</td>\n",
       "      <td>1</td>\n",
       "      <td>1</td>\n",
       "      <td>1</td>\n",
       "      <td>1</td>\n",
       "      <td>2</td>\n",
       "      <td>1</td>\n",
       "      <td>0</td>\n",
       "      <td>0</td>\n",
       "      <td>1</td>\n",
       "      <td>1</td>\n",
       "    </tr>\n",
       "    <tr>\n",
       "      <th>17</th>\n",
       "      <td>4</td>\n",
       "      <td>4</td>\n",
       "      <td>3</td>\n",
       "      <td>4</td>\n",
       "      <td>4</td>\n",
       "      <td>4</td>\n",
       "      <td>4</td>\n",
       "      <td>3</td>\n",
       "      <td>3</td>\n",
       "      <td>3</td>\n",
       "      <td>1</td>\n",
       "    </tr>\n",
       "    <tr>\n",
       "      <th>0</th>\n",
       "      <td>0</td>\n",
       "      <td>0</td>\n",
       "      <td>1</td>\n",
       "      <td>0</td>\n",
       "      <td>0</td>\n",
       "      <td>0</td>\n",
       "      <td>1</td>\n",
       "      <td>1</td>\n",
       "      <td>1</td>\n",
       "      <td>3</td>\n",
       "      <td>1</td>\n",
       "    </tr>\n",
       "    <tr>\n",
       "      <th>28</th>\n",
       "      <td>4</td>\n",
       "      <td>3</td>\n",
       "      <td>2</td>\n",
       "      <td>3</td>\n",
       "      <td>4</td>\n",
       "      <td>3</td>\n",
       "      <td>4</td>\n",
       "      <td>4</td>\n",
       "      <td>4</td>\n",
       "      <td>4</td>\n",
       "      <td>1</td>\n",
       "    </tr>\n",
       "  </tbody>\n",
       "</table>\n",
       "</div>"
      ],
      "text/plain": [
       "    Atr12  Atr15  Atr16  Atr17  Atr18  Atr19  Atr20  Atr36  Atr38  Atr40  \\\n",
       "51      3      3      2      3      3      3      3      4      4      4   \n",
       "4       1      1      1      1      1      2      1      0      0      1   \n",
       "17      4      4      3      4      4      4      4      3      3      3   \n",
       "0       0      0      1      0      0      0      1      1      1      3   \n",
       "28      4      3      2      3      4      3      4      4      4      4   \n",
       "\n",
       "    Class  \n",
       "51      1  \n",
       "4       1  \n",
       "17      1  \n",
       "0       1  \n",
       "28      1  "
      ]
     },
     "metadata": {},
     "output_type": "display_data"
    },
    {
     "data": {
      "text/html": [
       "<div>\n",
       "<style scoped>\n",
       "    .dataframe tbody tr th:only-of-type {\n",
       "        vertical-align: middle;\n",
       "    }\n",
       "\n",
       "    .dataframe tbody tr th {\n",
       "        vertical-align: top;\n",
       "    }\n",
       "\n",
       "    .dataframe thead th {\n",
       "        text-align: right;\n",
       "    }\n",
       "</style>\n",
       "<table border=\"1\" class=\"dataframe\">\n",
       "  <thead>\n",
       "    <tr style=\"text-align: right;\">\n",
       "      <th></th>\n",
       "      <th>Atr12</th>\n",
       "      <th>Atr15</th>\n",
       "      <th>Atr16</th>\n",
       "      <th>Atr17</th>\n",
       "      <th>Atr18</th>\n",
       "      <th>Atr19</th>\n",
       "      <th>Atr20</th>\n",
       "      <th>Atr36</th>\n",
       "      <th>Atr38</th>\n",
       "      <th>Atr40</th>\n",
       "      <th>Class</th>\n",
       "    </tr>\n",
       "  </thead>\n",
       "  <tbody>\n",
       "    <tr>\n",
       "      <th>count</th>\n",
       "      <td>170.000000</td>\n",
       "      <td>170.000000</td>\n",
       "      <td>170.000000</td>\n",
       "      <td>170.000000</td>\n",
       "      <td>170.000000</td>\n",
       "      <td>170.000000</td>\n",
       "      <td>170.000000</td>\n",
       "      <td>170.000000</td>\n",
       "      <td>170.000000</td>\n",
       "      <td>170.000000</td>\n",
       "      <td>170.000000</td>\n",
       "    </tr>\n",
       "    <tr>\n",
       "      <th>mean</th>\n",
       "      <td>1.652941</td>\n",
       "      <td>1.570588</td>\n",
       "      <td>1.476471</td>\n",
       "      <td>1.652941</td>\n",
       "      <td>1.517647</td>\n",
       "      <td>1.641176</td>\n",
       "      <td>1.458824</td>\n",
       "      <td>1.605882</td>\n",
       "      <td>1.858824</td>\n",
       "      <td>1.870588</td>\n",
       "      <td>0.494118</td>\n",
       "    </tr>\n",
       "    <tr>\n",
       "      <th>std</th>\n",
       "      <td>1.468654</td>\n",
       "      <td>1.506697</td>\n",
       "      <td>1.504246</td>\n",
       "      <td>1.614512</td>\n",
       "      <td>1.565998</td>\n",
       "      <td>1.641027</td>\n",
       "      <td>1.554173</td>\n",
       "      <td>1.798412</td>\n",
       "      <td>1.734802</td>\n",
       "      <td>1.796039</td>\n",
       "      <td>0.501442</td>\n",
       "    </tr>\n",
       "    <tr>\n",
       "      <th>min</th>\n",
       "      <td>0.000000</td>\n",
       "      <td>0.000000</td>\n",
       "      <td>0.000000</td>\n",
       "      <td>0.000000</td>\n",
       "      <td>0.000000</td>\n",
       "      <td>0.000000</td>\n",
       "      <td>0.000000</td>\n",
       "      <td>0.000000</td>\n",
       "      <td>0.000000</td>\n",
       "      <td>0.000000</td>\n",
       "      <td>0.000000</td>\n",
       "    </tr>\n",
       "    <tr>\n",
       "      <th>25%</th>\n",
       "      <td>0.000000</td>\n",
       "      <td>0.000000</td>\n",
       "      <td>0.000000</td>\n",
       "      <td>0.000000</td>\n",
       "      <td>0.000000</td>\n",
       "      <td>0.000000</td>\n",
       "      <td>0.000000</td>\n",
       "      <td>0.000000</td>\n",
       "      <td>0.000000</td>\n",
       "      <td>0.000000</td>\n",
       "      <td>0.000000</td>\n",
       "    </tr>\n",
       "    <tr>\n",
       "      <th>50%</th>\n",
       "      <td>1.500000</td>\n",
       "      <td>1.000000</td>\n",
       "      <td>1.000000</td>\n",
       "      <td>1.000000</td>\n",
       "      <td>1.000000</td>\n",
       "      <td>1.000000</td>\n",
       "      <td>1.000000</td>\n",
       "      <td>0.000000</td>\n",
       "      <td>1.000000</td>\n",
       "      <td>1.500000</td>\n",
       "      <td>0.000000</td>\n",
       "    </tr>\n",
       "    <tr>\n",
       "      <th>75%</th>\n",
       "      <td>3.000000</td>\n",
       "      <td>3.000000</td>\n",
       "      <td>3.000000</td>\n",
       "      <td>3.000000</td>\n",
       "      <td>3.000000</td>\n",
       "      <td>3.000000</td>\n",
       "      <td>3.000000</td>\n",
       "      <td>4.000000</td>\n",
       "      <td>4.000000</td>\n",
       "      <td>4.000000</td>\n",
       "      <td>1.000000</td>\n",
       "    </tr>\n",
       "    <tr>\n",
       "      <th>max</th>\n",
       "      <td>4.000000</td>\n",
       "      <td>4.000000</td>\n",
       "      <td>4.000000</td>\n",
       "      <td>4.000000</td>\n",
       "      <td>4.000000</td>\n",
       "      <td>4.000000</td>\n",
       "      <td>4.000000</td>\n",
       "      <td>4.000000</td>\n",
       "      <td>4.000000</td>\n",
       "      <td>4.000000</td>\n",
       "      <td>1.000000</td>\n",
       "    </tr>\n",
       "  </tbody>\n",
       "</table>\n",
       "</div>"
      ],
      "text/plain": [
       "            Atr12       Atr15       Atr16       Atr17       Atr18       Atr19  \\\n",
       "count  170.000000  170.000000  170.000000  170.000000  170.000000  170.000000   \n",
       "mean     1.652941    1.570588    1.476471    1.652941    1.517647    1.641176   \n",
       "std      1.468654    1.506697    1.504246    1.614512    1.565998    1.641027   \n",
       "min      0.000000    0.000000    0.000000    0.000000    0.000000    0.000000   \n",
       "25%      0.000000    0.000000    0.000000    0.000000    0.000000    0.000000   \n",
       "50%      1.500000    1.000000    1.000000    1.000000    1.000000    1.000000   \n",
       "75%      3.000000    3.000000    3.000000    3.000000    3.000000    3.000000   \n",
       "max      4.000000    4.000000    4.000000    4.000000    4.000000    4.000000   \n",
       "\n",
       "            Atr20       Atr36       Atr38       Atr40       Class  \n",
       "count  170.000000  170.000000  170.000000  170.000000  170.000000  \n",
       "mean     1.458824    1.605882    1.858824    1.870588    0.494118  \n",
       "std      1.554173    1.798412    1.734802    1.796039    0.501442  \n",
       "min      0.000000    0.000000    0.000000    0.000000    0.000000  \n",
       "25%      0.000000    0.000000    0.000000    0.000000    0.000000  \n",
       "50%      1.000000    0.000000    1.000000    1.500000    0.000000  \n",
       "75%      3.000000    4.000000    4.000000    4.000000    1.000000  \n",
       "max      4.000000    4.000000    4.000000    4.000000    1.000000  "
      ]
     },
     "metadata": {},
     "output_type": "display_data"
    }
   ],
   "source": [
    "# divorce = pd.read_csv('divorce-csv.csv')\n",
    "divorce = pd.read_csv('divorce-ten-features-csv.csv')\n",
    "# divorce = pd.read_csv('divorce-six-features-csv.csv')\n",
    "display(divorce.sample(5))\n",
    "display(divorce.describe())"
   ]
  },
  {
   "cell_type": "code",
   "execution_count": 4,
   "metadata": {},
   "outputs": [
    {
     "data": {
      "text/plain": [
       "(170, 11)"
      ]
     },
     "execution_count": 4,
     "metadata": {},
     "output_type": "execute_result"
    }
   ],
   "source": [
    "divorce.shape"
   ]
  },
  {
   "cell_type": "code",
   "execution_count": 5,
   "metadata": {},
   "outputs": [
    {
     "data": {
      "text/plain": [
       "<matplotlib.axes._subplots.AxesSubplot at 0x1b04a083208>"
      ]
     },
     "execution_count": 5,
     "metadata": {},
     "output_type": "execute_result"
    },
    {
     "data": {
      "image/png": "[encoded data removed]",
      "text/plain": [
       "<Figure size 432x288 with 1 Axes>"
      ]
     },
     "metadata": {
      "needs_background": "light"
     },
     "output_type": "display_data"
    }
   ],
   "source": [
    "divorce['Class'].value_counts()\n",
    "sns.countplot(divorce['Class'])"
   ]
  },
  {
   "cell_type": "code",
   "execution_count": 6,
   "metadata": {},
   "outputs": [],
   "source": [
    "# some checking on our data\n",
    "# divorce.dtypes\n",
    "# divorce.Class.describe()\n",
    "# divorce['Class'].describe()\n",
    "# divorce.Atr1.value_counts()\n",
    "# divorce.Atr1.unique()\n",
    "# divorce.mean(axis=1)\n",
    "# divorce.Atr2.value_counts().plot(kind='bar')"
   ]
  },
  {
   "cell_type": "markdown",
   "metadata": {},
   "source": [
    "# Preprocessing"
   ]
  },
  {
   "cell_type": "code",
   "execution_count": 7,
   "metadata": {},
   "outputs": [],
   "source": [
    "# Check for null values\n",
    "total = divorce.isnull().sum().sort_values(ascending=False)"
   ]
  },
  {
   "cell_type": "code",
   "execution_count": 8,
   "metadata": {},
   "outputs": [],
   "source": [
    "X = divorce.drop('Class', axis=1)\n",
    "y = divorce['Class']"
   ]
  },
  {
   "cell_type": "code",
   "execution_count": 9,
   "metadata": {},
   "outputs": [
    {
     "name": "stdout",
     "output_type": "stream",
     "text": [
      "(34, 10)\n"
     ]
    }
   ],
   "source": [
    "# Split Dataset into Training and Testing sets\n",
    "X_train, X_test, y_train, y_test = train_test_split(X, y, test_size = TEST_SIZE, random_state = 42, shuffle=True)\n",
    "\n",
    "print((X_train.shape))"
   ]
  },
  {
   "cell_type": "code",
   "execution_count": 10,
   "metadata": {},
   "outputs": [],
   "source": [
    "# Normalize data - not necessary when using StandardScaler() as below\n",
    "# x = divorce.values #returns a numpy array\n",
    "# print(x)\n",
    "# min_max_scaler = preprocessing.MinMaxScaler()\n",
    "# x_scaled = min_max_scaler.fit_transform(x)\n",
    "# divorce = pd.DataFrame(x_scaled)\n",
    "# divorce"
   ]
  },
  {
   "cell_type": "code",
   "execution_count": 11,
   "metadata": {},
   "outputs": [],
   "source": [
    "#To normalise the values of the dataset to improve the model accuracy.\n",
    "sc = StandardScaler()\n",
    "X_train = sc.fit_transform(X_train)\n",
    "X_test = sc.transform(X_test)"
   ]
  },
  {
   "cell_type": "markdown",
   "metadata": {},
   "source": [
    "# Random Forest Classifier\n"
   ]
  },
  {
   "cell_type": "code",
   "execution_count": 12,
   "metadata": {},
   "outputs": [
    {
     "data": {
      "text/plain": [
       "RandomForestClassifier(bootstrap=True, ccp_alpha=0.0, class_weight=None,\n",
       "                       criterion='gini', max_depth=None, max_features='auto',\n",
       "                       max_leaf_nodes=None, max_samples=None,\n",
       "                       min_impurity_decrease=0.0, min_impurity_split=None,\n",
       "                       min_samples_leaf=1, min_samples_split=2,\n",
       "                       min_weight_fraction_leaf=0.0, n_estimators=100,\n",
       "                       n_jobs=None, oob_score=False, random_state=None,\n",
       "                       verbose=0, warm_start=False)"
      ]
     },
     "execution_count": 12,
     "metadata": {},
     "output_type": "execute_result"
    }
   ],
   "source": [
    "#to calculate time complexity\n",
    "start = time.time()\n",
    "\n",
    "#Create a RandomForest Classifier\n",
    "rfc = RandomForestClassifier(n_estimators=100)\n",
    "\n",
    "#Train the model using the training sets\n",
    "rfc.fit(X_train, y_train)"
   ]
  },
  {
   "cell_type": "code",
   "execution_count": 13,
   "metadata": {},
   "outputs": [
    {
     "data": {
      "text/plain": [
       "0.9705882352941176"
      ]
     },
     "execution_count": 13,
     "metadata": {},
     "output_type": "execute_result"
    }
   ],
   "source": [
    "pred_rfc = rfc.predict(X_test)\n",
    "rfc.score(X_test,y_test)"
   ]
  },
  {
   "cell_type": "code",
   "execution_count": 14,
   "metadata": {},
   "outputs": [
    {
     "name": "stdout",
     "output_type": "stream",
     "text": [
      "Random-Forest execution time: 0.36845 seconds \n",
      "\n"
     ]
    }
   ],
   "source": [
    "end = time.time()\n",
    "print(\"Random-Forest execution time: {0:.5} seconds \\n\".format(end-start))"
   ]
  },
  {
   "cell_type": "code",
   "execution_count": 15,
   "metadata": {},
   "outputs": [
    {
     "name": "stdout",
     "output_type": "stream",
     "text": [
      "              precision    recall  f1-score   support\n",
      "\n",
      "           0       0.94      1.00      0.97        66\n",
      "           1       1.00      0.94      0.97        70\n",
      "\n",
      "    accuracy                           0.97       136\n",
      "   macro avg       0.97      0.97      0.97       136\n",
      "weighted avg       0.97      0.97      0.97       136\n",
      "\n"
     ]
    }
   ],
   "source": [
    "# classification report\n",
    "print(classification_report(y_test, pred_rfc))"
   ]
  },
  {
   "cell_type": "code",
   "execution_count": 16,
   "metadata": {},
   "outputs": [
    {
     "data": {
      "image/png": "[encoded data removed]",
      "text/plain": [
       "<Figure size 504x360 with 2 Axes>"
      ]
     },
     "metadata": {
      "needs_background": "light"
     },
     "output_type": "display_data"
    }
   ],
   "source": [
    "rf_cf_matrix = confusion_matrix(y_test, pred_rfc)\n",
    "make_confusion_matrix(rf_cf_matrix, group_names = LABELS, categories = CATEGORIES, title = RF_TITLE)"
   ]
  },
  {
   "cell_type": "markdown",
   "metadata": {},
   "source": [
    "# SVM Classifier"
   ]
  },
  {
   "cell_type": "code",
   "execution_count": 17,
   "metadata": {},
   "outputs": [
    {
     "data": {
      "text/plain": [
       "SVC(C=1.0, break_ties=False, cache_size=200, class_weight=None, coef0=0.0,\n",
       "    decision_function_shape='ovr', degree=3, gamma='scale', kernel='linear',\n",
       "    max_iter=-1, probability=False, random_state=None, shrinking=True,\n",
       "    tol=0.001, verbose=False)"
      ]
     },
     "execution_count": 17,
     "metadata": {},
     "output_type": "execute_result"
    }
   ],
   "source": [
    "#to calculate time complexity\n",
    "start = time.time()\n",
    "\n",
    "#Create a svm Classifier\n",
    "clf = svm.SVC(kernel='linear')\n",
    "\n",
    "#Train the model using the training sets\n",
    "clf.fit(X_train, y_train)"
   ]
  },
  {
   "cell_type": "code",
   "execution_count": 18,
   "metadata": {},
   "outputs": [
    {
     "name": "stdout",
     "output_type": "stream",
     "text": [
      "Accuracy2: 0.9705882352941176\n"
     ]
    }
   ],
   "source": [
    "#Predict the response for test dataset\n",
    "pred_clf = clf.predict(X_test)\n",
    "\n",
    "#Import scikit-learn metrics module for accuracy calculation\n",
    "# from sklearn import metrics\n",
    "\n",
    "# clf.score(X_test,y_test)\n",
    "# Model Accuracy: how often is the classifier correct?\n",
    "# print(\"Accuracy:\", metrics.accuracy_score(y_test, pred_clf))\n",
    "print(\"Accuracy2:\", clf.score(X_test,y_test))"
   ]
  },
  {
   "cell_type": "code",
   "execution_count": 19,
   "metadata": {},
   "outputs": [
    {
     "name": "stdout",
     "output_type": "stream",
     "text": [
      "SVM execution time: 0.37399 seconds \n",
      "\n"
     ]
    }
   ],
   "source": [
    "end = time.time()\n",
    "print(\"SVM execution time: {0:.5} seconds \\n\".format(end-start))"
   ]
  },
  {
   "cell_type": "code",
   "execution_count": 20,
   "metadata": {},
   "outputs": [
    {
     "name": "stdout",
     "output_type": "stream",
     "text": [
      "              precision    recall  f1-score   support\n",
      "\n",
      "           0       0.94      1.00      0.97        66\n",
      "           1       1.00      0.94      0.97        70\n",
      "\n",
      "    accuracy                           0.97       136\n",
      "   macro avg       0.97      0.97      0.97       136\n",
      "weighted avg       0.97      0.97      0.97       136\n",
      "\n"
     ]
    }
   ],
   "source": [
    "print(classification_report(y_test, pred_clf))"
   ]
  },
  {
   "cell_type": "code",
   "execution_count": 21,
   "metadata": {},
   "outputs": [
    {
     "data": {
      "image/png": "[encoded data removed]",
      "text/plain": [
       "<Figure size 504x360 with 2 Axes>"
      ]
     },
     "metadata": {
      "needs_background": "light"
     },
     "output_type": "display_data"
    }
   ],
   "source": [
    "svm_cf_matrix = confusion_matrix(y_test, pred_clf)\n",
    "make_confusion_matrix(svm_cf_matrix, group_names = LABELS, categories = CATEGORIES, title = SVM_TITLE)"
   ]
  },
  {
   "cell_type": "markdown",
   "metadata": {},
   "source": [
    "# Neural Network"
   ]
  },
  {
   "cell_type": "code",
   "execution_count": 22,
   "metadata": {},
   "outputs": [
    {
     "data": {
      "text/plain": [
       "MLPClassifier(activation='logistic', alpha=0.0001, batch_size='auto',\n",
       "              beta_1=0.9, beta_2=0.999, early_stopping=False, epsilon=1e-08,\n",
       "              hidden_layer_sizes=12, learning_rate='adaptive',\n",
       "              learning_rate_init=0.001, max_fun=15000, max_iter=500, momentum=1,\n",
       "              n_iter_no_change=10, nesterovs_momentum=True, power_t=0.5,\n",
       "              random_state=None, shuffle=True, solver='sgd', tol=0.0001,\n",
       "              validation_fraction=0.1, verbose=False, warm_start=False)"
      ]
     },
     "execution_count": 22,
     "metadata": {},
     "output_type": "execute_result"
    }
   ],
   "source": [
    "#to calculate time complexity\n",
    "start = time.time()\n",
    "\n",
    "#Create a MLP Classifier\n",
    "mlpc = MLPClassifier(hidden_layer_sizes=HIDDEN_LAYER_SIZES, activation='logistic', max_iter=MAX_ITER,\n",
    "                    solver='sgd', learning_rate='adaptive', momentum=1)\n",
    "\n",
    "#Train the model using the training sets\n",
    "mlpc.fit(X_train, y_train)"
   ]
  },
  {
   "cell_type": "code",
   "execution_count": 23,
   "metadata": {},
   "outputs": [
    {
     "data": {
      "text/plain": [
       "0.9705882352941176"
      ]
     },
     "execution_count": 23,
     "metadata": {},
     "output_type": "execute_result"
    }
   ],
   "source": [
    "pred_mlpc = mlpc.predict(X_test)\n",
    "accuracy_score(y_test, pred_mlpc)"
   ]
  },
  {
   "cell_type": "code",
   "execution_count": 24,
   "metadata": {},
   "outputs": [
    {
     "name": "stdout",
     "output_type": "stream",
     "text": [
      "MLP execution time: 0.38528 seconds \n",
      "\n"
     ]
    }
   ],
   "source": [
    "end = time.time()\n",
    "print(\"MLP execution time: {0:.5} seconds \\n\".format(end-start))"
   ]
  },
  {
   "cell_type": "code",
   "execution_count": 25,
   "metadata": {},
   "outputs": [
    {
     "name": "stdout",
     "output_type": "stream",
     "text": [
      "              precision    recall  f1-score   support\n",
      "\n",
      "           0       0.94      1.00      0.97        66\n",
      "           1       1.00      0.94      0.97        70\n",
      "\n",
      "    accuracy                           0.97       136\n",
      "   macro avg       0.97      0.97      0.97       136\n",
      "weighted avg       0.97      0.97      0.97       136\n",
      "\n"
     ]
    }
   ],
   "source": [
    "print(classification_report(y_test, pred_mlpc))"
   ]
  },
  {
   "cell_type": "code",
   "execution_count": 26,
   "metadata": {},
   "outputs": [
    {
     "data": {
      "image/png": "[encoded data removed]",
      "text/plain": [
       "<Figure size 504x360 with 2 Axes>"
      ]
     },
     "metadata": {
      "needs_background": "light"
     },
     "output_type": "display_data"
    }
   ],
   "source": [
    "nn_cf_matrix = confusion_matrix(y_test, pred_mlpc)\n",
    "make_confusion_matrix(nn_cf_matrix, group_names = LABELS, categories = CATEGORIES, title = NN_TITLE)"
   ]
  },
  {
   "cell_type": "markdown",
   "metadata": {},
   "source": [
    "# Neural Network Details\n",
    "some checking we did on our network weights to get a better understanding of the results"
   ]
  },
  {
   "cell_type": "code",
   "execution_count": 27,
   "metadata": {},
   "outputs": [
    {
     "name": "stdout",
     "output_type": "stream",
     "text": [
      "weights between input and first hidden layer:\n",
      "[[ 0.349617   -0.05038372 -0.15702974 -1.01957382 -0.64747928  0.5693365\n",
      "  -0.2466951   0.79208979  0.56129534 -0.02708213  1.05854621 -0.78166337]\n",
      " [-0.15528705 -0.30995156 -0.16524    -0.64339419 -1.07554768  0.78623501\n",
      "  -0.26115727  0.74451297  0.46166501 -0.09354068  0.96327797 -0.7261163 ]\n",
      " [ 0.1220341   0.10888585 -0.28637554 -0.89672633 -1.00967797  0.56336001\n",
      "   0.08522652  0.5869039   0.47528403  0.08542063  0.89915408 -0.71032793]\n",
      " [ 0.08081632  0.05752568 -0.2928828  -0.6302185  -0.7476576   0.91226119\n",
      "  -0.19979795  0.82716121  0.23535726 -0.07452231  0.89717949 -1.04391965]\n",
      " [ 0.36968068  0.04491976 -0.40733411 -0.78338569 -1.03540671  0.62240326\n",
      "   0.29651387  0.51018834  0.20087237 -0.1130242   0.81092202 -0.95917235]\n",
      " [ 0.06678349 -0.19410131 -0.04179734 -0.89107856 -0.99951171  0.87624664\n",
      "   0.28218744  0.3109932   0.47634247  0.17246873  0.72776969 -0.99740166]\n",
      " [ 0.42072622 -0.01224005 -0.15449439 -1.14502336 -1.08825932  0.71235654\n",
      "   0.0805724   0.58225725  0.48253055  0.27964206  0.75574256 -0.73730885]\n",
      " [-0.10475412 -0.28054636 -0.15744301 -0.75153856 -1.25450816  0.462478\n",
      "  -0.13838814  0.82625137  0.55201998 -0.09055674  0.9300691  -0.62663506]\n",
      " [-0.13551977 -0.15290674 -0.21227648 -0.88772977 -1.11524582  0.51027024\n",
      "  -0.22209307  0.45473608  0.3875531  -0.03669842  0.83767489 -1.06692187]\n",
      " [-0.01092298 -0.24884897  0.02974005 -1.15579316 -1.08612442  0.83347524\n",
      "  -0.15704506  0.6113525   0.25438031  0.2615738   0.71229427 -1.03482515]]\n",
      "\n",
      "bias between input and first hidden layer:\n",
      "[ 0.25728361 -0.10461245 -0.16890859 -0.06012901  0.16746791  0.18038281\n",
      "  0.14715576  0.02298028  0.15296616 -0.1932159  -0.09287605  0.02465886]\n",
      "\n",
      "\n",
      "max weights between input and first hidden layer:\n",
      "1.0585462122764118\n",
      "-1.254508164062051\n"
     ]
    }
   ],
   "source": [
    "print(\"weights between input and first hidden layer:\")\n",
    "print(mlpc.coefs_[0])\n",
    "print(\"\\nbias between input and first hidden layer:\")\n",
    "print(mlpc.intercepts_[0])\n",
    "\n",
    "print(\"\\n\\nmax weights between input and first hidden layer:\")\n",
    "print(mlpc.coefs_[0].max())\n",
    "print(mlpc.coefs_[0].min())"
   ]
  },
  {
   "cell_type": "code",
   "execution_count": 28,
   "metadata": {},
   "outputs": [
    {
     "name": "stdout",
     "output_type": "stream",
     "text": [
      "weights between first hidden and second hidden layer:\n",
      "[[-0.11671913]\n",
      " [-0.90717043]\n",
      " [ 0.64409287]\n",
      " [-1.40212482]\n",
      " [-3.22271742]\n",
      " [ 2.32812643]\n",
      " [-0.88520377]\n",
      " [ 3.14507849]\n",
      " [ 1.57732887]\n",
      " [ 0.97101713]\n",
      " [ 2.15181184]\n",
      " [-2.79313985]]\n",
      "\n",
      "bias between first hidden and second hidden layer:\n",
      "[-0.09913494]\n"
     ]
    }
   ],
   "source": [
    "print(\"weights between first hidden and second hidden layer:\")\n",
    "print(mlpc.coefs_[1])\n",
    "print(\"\\nbias between first hidden and second hidden layer:\")\n",
    "print(mlpc.intercepts_[1])"
   ]
  },
  {
   "cell_type": "code",
   "execution_count": 29,
   "metadata": {},
   "outputs": [
    {
     "name": "stdout",
     "output_type": "stream",
     "text": [
      "w0 =  0.34961700334861623\n",
      "w1 =  -0.15528704865759077\n"
     ]
    }
   ],
   "source": [
    "print(\"w0 = \", mlpc.coefs_[0][0][0])\n",
    "print(\"w1 = \", mlpc.coefs_[0][1][0])"
   ]
  },
  {
   "cell_type": "code",
   "execution_count": 30,
   "metadata": {},
   "outputs": [
    {
     "data": {
      "text/plain": [
       "array([ 0.349617  , -0.15528705,  0.1220341 ,  0.08081632,  0.36968068,\n",
       "        0.06678349,  0.42072622, -0.10475412, -0.13551977, -0.01092298])"
      ]
     },
     "execution_count": 30,
     "metadata": {},
     "output_type": "execute_result"
    }
   ],
   "source": [
    "#The weight vector of H00 can be accessed with\n",
    "mlpc.coefs_[0][:,0]"
   ]
  },
  {
   "cell_type": "code",
   "execution_count": null,
   "metadata": {},
   "outputs": [],
   "source": []
  }
 ],
 "metadata": {
  "kernelspec": {
   "display_name": "Python 3",
   "language": "python",
   "name": "python3"
  },
  "language_info": {
   "codemirror_mode": {
    "name": "ipython",
    "version": 3
   },
   "file_extension": ".py",
   "mimetype": "text/x-python",
   "name": "python",
   "nbconvert_exporter": "python",
   "pygments_lexer": "ipython3",
   "version": "3.7.4"
  }
 },
 "nbformat": 4,
 "nbformat_minor": 1
}
