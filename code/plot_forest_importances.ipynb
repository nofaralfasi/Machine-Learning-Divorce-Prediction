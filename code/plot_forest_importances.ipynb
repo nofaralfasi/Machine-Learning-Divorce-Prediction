{
 "cells": [
  {
   "cell_type": "code",
   "execution_count": 1,
   "metadata": {},
   "outputs": [],
   "source": [
    "%matplotlib inline"
   ]
  },
  {
   "cell_type": "markdown",
   "metadata": {},
   "source": [
    "\n",
    "# Feature importances with forests of trees\n",
    "\n",
    "\n",
    "This program shows the use of forests of trees to evaluate the importance of\n",
    "features on an artificial classification task. The green bars are the feature\n",
    "importances of the forest, along with their inter-trees variability.\n",
    "\n"
   ]
  },
  {
   "cell_type": "code",
   "execution_count": 2,
   "metadata": {},
   "outputs": [
    {
     "name": "stdout",
     "output_type": "stream",
     "text": [
      "Automatically created module for IPython interactive environment\n",
      "\n",
      "Feature ranking:\n",
      "1. Attribute 19 (0.085242)\n",
      "2. Attribute 11 (0.069858)\n",
      "3. Attribute 20 (0.063211)\n",
      "4. Attribute 18 (0.063017)\n",
      "5. Attribute 17 (0.057544)\n",
      "6. Attribute 9 (0.053032)\n",
      "7. Attribute 29 (0.051074)\n",
      "8. Attribute 40 (0.041891)\n",
      "9. Attribute 12 (0.041825)\n",
      "10. Attribute 26 (0.040262)\n",
      "11. Attribute 39 (0.037546)\n",
      "12. Attribute 5 (0.037369)\n",
      "13. Attribute 28 (0.030495)\n",
      "14. Attribute 16 (0.030066)\n",
      "15. Attribute 38 (0.027775)\n",
      "16. Attribute 30 (0.027525)\n",
      "17. Attribute 36 (0.027174)\n",
      "18. Attribute 14 (0.024833)\n",
      "19. Attribute 8 (0.022703)\n",
      "20. Attribute 35 (0.018800)\n",
      "21. Attribute 4 (0.017071)\n",
      "22. Attribute 15 (0.014383)\n",
      "23. Attribute 1 (0.013925)\n",
      "24. Attribute 34 (0.013849)\n",
      "25. Attribute 25 (0.011971)\n",
      "26. Attribute 2 (0.010725)\n",
      "27. Attribute 37 (0.010716)\n",
      "28. Attribute 33 (0.009294)\n",
      "29. Attribute 13 (0.008391)\n",
      "30. Attribute 24 (0.006885)\n",
      "31. Attribute 21 (0.005289)\n",
      "32. Attribute 27 (0.004740)\n",
      "33. Attribute 23 (0.004031)\n",
      "34. Attribute 10 (0.003475)\n",
      "35. Attribute 22 (0.003299)\n",
      "36. Attribute 3 (0.002979)\n",
      "37. Attribute 31 (0.002917)\n",
      "38. Attribute 6 (0.002095)\n",
      "39. Attribute 32 (0.001907)\n",
      "40. Attribute 7 (0.000816)\n"
     ]
    },
    {
     "data": {
      "image/png": "[encoded data removed]",
      "text/plain": [
       "<Figure size 864x360 with 1 Axes>"
      ]
     },
     "metadata": {
      "needs_background": "light"
     },
     "output_type": "display_data"
    }
   ],
   "source": [
    "print(__doc__)\n",
    "\n",
    "import pandas as pd\n",
    "import numpy as np\n",
    "import matplotlib.pyplot as plt\n",
    "\n",
    "from sklearn.ensemble import ExtraTreesClassifier\n",
    "\n",
    "divorce = pd.read_csv('divorce-csv.csv')\n",
    "X = divorce.drop('Class', axis=1)\n",
    "X = X.drop(X.iloc[:, 40:], axis = 1) \n",
    "y = divorce['Class']\n",
    "\n",
    "# Build a forest and compute the feature importances\n",
    "forest = ExtraTreesClassifier(n_estimators=250, random_state=0)\n",
    "\n",
    "forest.fit(X, y)\n",
    "importances = forest.feature_importances_\n",
    "std = np.std([tree.feature_importances_ for tree in forest.estimators_], axis=0)\n",
    "indices = np.argsort(importances)[::-1]\n",
    "\n",
    "# Print the feature ranking\n",
    "print(\"\\nFeature ranking:\")\n",
    "\n",
    "for f in range(X.shape[1]):\n",
    "    print(\"%d. Attribute %d (%f)\" % (f + 1, indices[f]+1, importances[indices[f]]))\n",
    "\n",
    "# Plot the feature importances of the forest\n",
    "plt.figure(figsize=(12, 5))\n",
    "plt.title(\"Feature importances\")\n",
    "plt.bar(range(X.shape[1]), importances[indices], color=\"g\", yerr=std[indices], align=\"center\")\n",
    "plt.xticks(range(X.shape[1]), indices)\n",
    "plt.xlim([-1, X.shape[1]])\n",
    "plt.show()"
   ]
  },
  {
   "cell_type": "code",
   "execution_count": null,
   "metadata": {},
   "outputs": [],
   "source": []
  }
 ],
 "metadata": {
  "kernelspec": {
   "display_name": "Python 3",
   "language": "python",
   "name": "python3"
  },
  "language_info": {
   "codemirror_mode": {
    "name": "ipython",
    "version": 3
   },
   "file_extension": ".py",
   "mimetype": "text/x-python",
   "name": "python",
   "nbconvert_exporter": "python",
   "pygments_lexer": "ipython3",
   "version": "3.7.4"
  }
 },
 "nbformat": 4,
 "nbformat_minor": 1
}
