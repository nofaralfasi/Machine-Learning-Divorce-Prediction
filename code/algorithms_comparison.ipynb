{
 "cells": [
  {
   "cell_type": "markdown",
   "metadata": {},
   "source": [
    "# Classification Algorithms Comparison"
   ]
  },
  {
   "cell_type": "code",
   "execution_count": 10,
   "metadata": {},
   "outputs": [
    {
     "name": "stdout",
     "output_type": "stream",
     "text": [
      "\n",
      "************************* Algorithm Accuracy *************************\n",
      "ANN: 0.957143 (0.065465)\n",
      "RF: 0.957143 (0.065465)\n",
      "KNN: 0.957143 (0.065465)\n",
      "NB: 0.942857 (0.094761)\n",
      "SVM: 0.957143 (0.065465)\n"
     ]
    },
    {
     "data": {
      "image/png": "[encoded data removed]",
      "text/plain": [
       "<Figure size 720x720 with 1 Axes>"
      ]
     },
     "metadata": {},
     "output_type": "display_data"
    }
   ],
   "source": [
    "def comparealgo(): \n",
    "    print()\n",
    "    print(format(' Algorithm Accuracy ','*^70'))    \n",
    "    import warnings\n",
    "    warnings.filterwarnings(\"ignore\")\n",
    "    import matplotlib.pyplot as plt\n",
    "    from sklearn import model_selection\n",
    "    from sklearn.linear_model import LogisticRegression\n",
    "    from sklearn.tree import DecisionTreeClassifier\n",
    "    from sklearn.neighbors import KNeighborsClassifier\n",
    "    from sklearn.discriminant_analysis import LinearDiscriminantAnalysis\n",
    "    from sklearn.neural_network import MLPClassifier\n",
    "    from sklearn.ensemble import RandomForestClassifier\n",
    "    from sklearn.naive_bayes import GaussianNB\n",
    "    from sklearn.svm import SVC\n",
    "    from sklearn.model_selection import train_test_split     \n",
    "    import pandas as pd\n",
    "\n",
    "    plt.style.use('ggplot')\n",
    "    # load datasets\n",
    "    dataset = pd.read_csv('divorce-csv.csv')\n",
    "    X = dataset.drop('Class', axis=1)\n",
    "    y = dataset['Class']\n",
    "    seed = 24\n",
    "    X_train, X_test, y_train, y_test = train_test_split(X, y, test_size=0.6)\n",
    "    kfold = model_selection.KFold(n_splits=15, random_state=seed)    \n",
    "    # prepare models\n",
    "    models = []\n",
    "    models.append(('ANN',  MLPClassifier()))\n",
    "    models.append(('RF', RandomForestClassifier()))\n",
    "    models.append(('KNN', KNeighborsClassifier()))\n",
    "    models.append(('NB', GaussianNB()))\n",
    "    models.append(('SVM', SVC()))\n",
    "    # evaluate each model\n",
    "    results = []\n",
    "    names = []\n",
    "    scoring = 'accuracy'\n",
    "    for name, model in models:\n",
    "        kfold = model_selection.KFold(n_splits=10, random_state=seed)\n",
    "        cv_results = model_selection.cross_val_score(model, X_train, y_train, cv=kfold, scoring=scoring)\n",
    "        results.append(cv_results)\n",
    "        names.append(name)\n",
    "        msg = \"%s: %f (%f)\" % (name, cv_results.mean(), cv_results.std())\n",
    "        print(msg)\n",
    "    # boxplot algorithm comparison\n",
    "    fig = plt.figure(figsize=(10,10))\n",
    "    fig.suptitle('Classification Algorithms Comparison')\n",
    "    ax = fig.add_subplot(111)\n",
    "    plt.boxplot(results)\n",
    "    ax.set_xticklabels(names)\n",
    "    plt.show()\n",
    "    \n",
    "comparealgo()"
   ]
  },
  {
   "cell_type": "code",
   "execution_count": null,
   "metadata": {},
   "outputs": [],
   "source": []
  }
 ],
 "metadata": {
  "kernelspec": {
   "display_name": "Python 3",
   "language": "python",
   "name": "python3"
  },
  "language_info": {
   "codemirror_mode": {
    "name": "ipython",
    "version": 3
   },
   "file_extension": ".py",
   "mimetype": "text/x-python",
   "name": "python",
   "nbconvert_exporter": "python",
   "pygments_lexer": "ipython3",
   "version": "3.7.4"
  }
 },
 "nbformat": 4,
 "nbformat_minor": 2
}
